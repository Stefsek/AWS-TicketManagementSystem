{
 "cells": [
  {
   "cell_type": "code",
   "execution_count": 1,
   "id": "3cc82e2b",
   "metadata": {},
   "outputs": [],
   "source": [
    "import pandas as pd"
   ]
  },
  {
   "cell_type": "code",
   "execution_count": 2,
   "id": "8b0cf6c8",
   "metadata": {},
   "outputs": [],
   "source": [
    "import pickle\n",
    "\n",
    "# Read in binary mode\n",
    "with open(\"results.pkl\", \"rb\") as f:\n",
    "    data = pickle.load(f)"
   ]
  },
  {
   "cell_type": "code",
   "execution_count": 3,
   "id": "cf9c3ae1",
   "metadata": {},
   "outputs": [
    {
     "data": {
      "text/plain": [
       "[{'ticket_id': 'TKT-20250808-8748', 'sentiment_target': 'NEUTRAL'},\n",
       " {'ticket_id': 'TKT-20250808-5634', 'sentiment_target': 'NEGATIVE'},\n",
       " {'ticket_id': 'TKT-20250808-1350', 'sentiment_target': 'POSITIVE'},\n",
       " {'ticket_id': 'TKT-20250808-6162', 'sentiment_target': 'NEUTRAL'},\n",
       " {'ticket_id': 'TKT-20250808-4155', 'sentiment_target': 'POSITIVE'},\n",
       " {'ticket_id': 'TKT-20250808-6533', 'sentiment_target': 'SLIGHTLY NEGATIVE'},\n",
       " {'ticket_id': 'TKT-20250808-5613', 'sentiment_target': 'NEUTRAL'},\n",
       " {'ticket_id': 'TKT-20250808-2512', 'sentiment_target': 'NEUTRAL'},\n",
       " {'ticket_id': 'TKT-20250808-7739', 'sentiment_target': 'NEUTRAL'},\n",
       " {'ticket_id': 'TKT-20250808-7977', 'sentiment_target': 'SLIGHTLY NEGATIVE'},\n",
       " {'ticket_id': 'TKT-20250808-2188', 'sentiment_target': 'SLIGHTLY NEGATIVE'},\n",
       " {'ticket_id': 'TKT-20250808-2603', 'sentiment_target': 'NEUTRAL'},\n",
       " {'ticket_id': 'TKT-20250808-2804', 'sentiment_target': 'NEUTRAL'},\n",
       " {'ticket_id': 'TKT-20250808-8755', 'sentiment_target': 'NEGATIVE'},\n",
       " {'ticket_id': 'TKT-20250808-1713', 'sentiment_target': 'SLIGHTLY NEGATIVE'},\n",
       " {'ticket_id': 'TKT-20250808-5624', 'sentiment_target': 'SLIGHTLY POSITIVE'},\n",
       " {'ticket_id': 'TKT-20250808-4341', 'sentiment_target': 'SLIGHTLY NEGATIVE'},\n",
       " {'ticket_id': 'TKT-20250808-2090', 'sentiment_target': 'NEUTRAL'},\n",
       " {'ticket_id': 'TKT-20250808-9233', 'sentiment_target': 'NEUTRAL'},\n",
       " {'ticket_id': 'TKT-20250808-9217', 'sentiment_target': 'NEGATIVE'},\n",
       " {'ticket_id': 'TKT-20250808-5979', 'sentiment_target': 'NEUTRAL'},\n",
       " {'ticket_id': 'TKT-20250808-1587', 'sentiment_target': 'SLIGHTLY NEGATIVE'},\n",
       " {'ticket_id': 'TKT-20250808-6764', 'sentiment_target': 'POSITIVE'},\n",
       " {'ticket_id': 'TKT-20250808-5561', 'sentiment_target': 'NEUTRAL'},\n",
       " {'ticket_id': 'TKT-20250808-2399', 'sentiment_target': 'SLIGHTLY NEGATIVE'},\n",
       " {'ticket_id': 'TKT-20250808-3353', 'sentiment_target': 'NEUTRAL'},\n",
       " {'ticket_id': 'TKT-20250808-8120', 'sentiment_target': 'SLIGHTLY POSITIVE'},\n",
       " {'ticket_id': 'TKT-20250808-6808', 'sentiment_target': 'NEGATIVE'},\n",
       " {'ticket_id': 'TKT-20250808-5431', 'sentiment_target': 'SLIGHTLY NEGATIVE'},\n",
       " {'ticket_id': 'TKT-20250808-2761', 'sentiment_target': 'SLIGHTLY NEGATIVE'},\n",
       " {'ticket_id': 'TKT-20250808-2728', 'sentiment_target': 'SLIGHTLY NEGATIVE'},\n",
       " {'ticket_id': 'TKT-20250808-3725', 'sentiment_target': 'SLIGHTLY POSITIVE'},\n",
       " {'ticket_id': 'TKT-20250808-2947', 'sentiment_target': 'SLIGHTLY NEGATIVE'},\n",
       " {'ticket_id': 'TKT-20250808-8852', 'sentiment_target': 'SLIGHTLY POSITIVE'},\n",
       " {'ticket_id': 'TKT-20250808-6814', 'sentiment_target': 'POSITIVE'},\n",
       " {'ticket_id': 'TKT-20250808-5545', 'sentiment_target': 'NEUTRAL'},\n",
       " {'ticket_id': 'TKT-20250808-3999', 'sentiment_target': 'NEGATIVE'},\n",
       " {'ticket_id': 'TKT-20250808-7079', 'sentiment_target': 'NEGATIVE'},\n",
       " {'ticket_id': 'TKT-20250808-3763', 'sentiment_target': 'POSITIVE'},\n",
       " {'ticket_id': 'TKT-20250808-4652', 'sentiment_target': 'NEUTRAL'},\n",
       " {'ticket_id': 'TKT-20250808-6622', 'sentiment_target': 'SLIGHTLY NEGATIVE'},\n",
       " {'ticket_id': 'TKT-20250808-4157', 'sentiment_target': 'POSITIVE'},\n",
       " {'ticket_id': 'TKT-20250808-6665', 'sentiment_target': 'NEUTRAL'},\n",
       " {'ticket_id': 'TKT-20250808-4219', 'sentiment_target': 'SLIGHTLY NEGATIVE'},\n",
       " {'ticket_id': 'TKT-20250808-8916', 'sentiment_target': 'POSITIVE'},\n",
       " {'ticket_id': 'TKT-20250808-7673', 'sentiment_target': 'NEUTRAL'},\n",
       " {'ticket_id': 'TKT-20250808-7752', 'sentiment_target': 'POSITIVE'},\n",
       " {'ticket_id': 'TKT-20250808-5694', 'sentiment_target': 'POSITIVE'},\n",
       " {'ticket_id': 'TKT-20250808-4186', 'sentiment_target': 'SLIGHTLY POSITIVE'},\n",
       " {'ticket_id': 'TKT-20250808-9637', 'sentiment_target': 'SLIGHTLY NEGATIVE'},\n",
       " {'ticket_id': 'TKT-20250808-6063', 'sentiment_target': 'NEUTRAL'},\n",
       " {'ticket_id': 'TKT-20250808-2490', 'sentiment_target': 'SLIGHTLY POSITIVE'},\n",
       " {'ticket_id': 'TKT-20250808-8513', 'sentiment_target': 'SLIGHTLY NEGATIVE'},\n",
       " {'ticket_id': 'TKT-20250808-8189', 'sentiment_target': 'NEGATIVE'},\n",
       " {'ticket_id': 'TKT-20250808-4334', 'sentiment_target': 'NEUTRAL'},\n",
       " {'ticket_id': 'TKT-20250808-5161', 'sentiment_target': 'NEGATIVE'},\n",
       " {'ticket_id': 'TKT-20250808-3568', 'sentiment_target': 'NEGATIVE'},\n",
       " {'ticket_id': 'TKT-20250808-3236', 'sentiment_target': 'SLIGHTLY POSITIVE'},\n",
       " {'ticket_id': 'TKT-20250808-5453', 'sentiment_target': 'NEUTRAL'},\n",
       " {'ticket_id': 'TKT-20250808-3111', 'sentiment_target': 'NEUTRAL'},\n",
       " {'ticket_id': 'TKT-20250808-7584', 'sentiment_target': 'NEUTRAL'},\n",
       " {'ticket_id': 'TKT-20250808-1046', 'sentiment_target': 'SLIGHTLY NEGATIVE'},\n",
       " {'ticket_id': 'TKT-20250808-1672', 'sentiment_target': 'SLIGHTLY POSITIVE'},\n",
       " {'ticket_id': 'TKT-20250808-2967', 'sentiment_target': 'SLIGHTLY NEGATIVE'},\n",
       " {'ticket_id': 'TKT-20250808-1157', 'sentiment_target': 'SLIGHTLY POSITIVE'},\n",
       " {'ticket_id': 'TKT-20250808-8392', 'sentiment_target': 'NEGATIVE'},\n",
       " {'ticket_id': 'TKT-20250808-6438', 'sentiment_target': 'NEUTRAL'},\n",
       " {'ticket_id': 'TKT-20250808-4712', 'sentiment_target': 'SLIGHTLY POSITIVE'},\n",
       " {'ticket_id': 'TKT-20250808-5021', 'sentiment_target': 'NEUTRAL'},\n",
       " {'ticket_id': 'TKT-20250808-9251', 'sentiment_target': 'NEUTRAL'},\n",
       " {'ticket_id': 'TKT-20250808-8201', 'sentiment_target': 'SLIGHTLY POSITIVE'},\n",
       " {'ticket_id': 'TKT-20250808-3505', 'sentiment_target': 'NEGATIVE'},\n",
       " {'ticket_id': 'TKT-20250808-4839', 'sentiment_target': 'NEUTRAL'},\n",
       " {'ticket_id': 'TKT-20250808-5440', 'sentiment_target': 'NEUTRAL'},\n",
       " {'ticket_id': 'TKT-20250808-9130', 'sentiment_target': 'SLIGHTLY NEGATIVE'},\n",
       " {'ticket_id': 'TKT-20250808-8751', 'sentiment_target': 'SLIGHTLY NEGATIVE'},\n",
       " {'ticket_id': 'TKT-20250808-4771', 'sentiment_target': 'NEUTRAL'},\n",
       " {'ticket_id': 'TKT-20250808-5385', 'sentiment_target': 'POSITIVE'},\n",
       " {'ticket_id': 'TKT-20250808-1799', 'sentiment_target': 'NEUTRAL'},\n",
       " {'ticket_id': 'TKT-20250808-1866', 'sentiment_target': 'SLIGHTLY NEGATIVE'},\n",
       " {'ticket_id': 'TKT-20250808-9488', 'sentiment_target': 'NEUTRAL'},\n",
       " {'ticket_id': 'TKT-20250808-6903', 'sentiment_target': 'NEGATIVE'},\n",
       " {'ticket_id': 'TKT-20250808-6197', 'sentiment_target': 'NEGATIVE'},\n",
       " {'ticket_id': 'TKT-20250808-4875', 'sentiment_target': 'SLIGHTLY NEGATIVE'},\n",
       " {'ticket_id': 'TKT-20250808-8987', 'sentiment_target': 'NEUTRAL'},\n",
       " {'ticket_id': 'TKT-20250808-5002', 'sentiment_target': 'NEUTRAL'},\n",
       " {'ticket_id': 'TKT-20250808-3867', 'sentiment_target': 'SLIGHTLY NEGATIVE'},\n",
       " {'ticket_id': 'TKT-20250808-9884', 'sentiment_target': 'NEUTRAL'},\n",
       " {'ticket_id': 'TKT-20250808-9054', 'sentiment_target': 'POSITIVE'},\n",
       " {'ticket_id': 'TKT-20250808-5751', 'sentiment_target': 'SLIGHTLY NEGATIVE'},\n",
       " {'ticket_id': 'TKT-20250808-5010', 'sentiment_target': 'SLIGHTLY NEGATIVE'},\n",
       " {'ticket_id': 'TKT-20250808-5557', 'sentiment_target': 'NEUTRAL'},\n",
       " {'ticket_id': 'TKT-20250808-2764', 'sentiment_target': 'NEUTRAL'},\n",
       " {'ticket_id': 'TKT-20250808-1488', 'sentiment_target': 'POSITIVE'},\n",
       " {'ticket_id': 'TKT-20250808-9975', 'sentiment_target': 'SLIGHTLY NEGATIVE'},\n",
       " {'ticket_id': 'TKT-20250808-3980', 'sentiment_target': 'NEUTRAL'},\n",
       " {'ticket_id': 'TKT-20250808-9641', 'sentiment_target': 'NEGATIVE'},\n",
       " {'ticket_id': 'TKT-20250808-7155', 'sentiment_target': 'NEGATIVE'},\n",
       " {'ticket_id': 'TKT-20250808-2414', 'sentiment_target': 'NEUTRAL'},\n",
       " {'ticket_id': 'TKT-20250808-1309', 'sentiment_target': 'NEGATIVE'}]"
      ]
     },
     "execution_count": 3,
     "metadata": {},
     "output_type": "execute_result"
    }
   ],
   "source": [
    "data"
   ]
  },
  {
   "cell_type": "code",
   "execution_count": null,
   "id": "58c0ae70",
   "metadata": {},
   "outputs": [],
   "source": []
  }
 ],
 "metadata": {
  "kernelspec": {
   "display_name": "thesis",
   "language": "python",
   "name": "python3"
  },
  "language_info": {
   "codemirror_mode": {
    "name": "ipython",
    "version": 3
   },
   "file_extension": ".py",
   "mimetype": "text/x-python",
   "name": "python",
   "nbconvert_exporter": "python",
   "pygments_lexer": "ipython3",
   "version": "3.11.5"
  }
 },
 "nbformat": 4,
 "nbformat_minor": 5
}
